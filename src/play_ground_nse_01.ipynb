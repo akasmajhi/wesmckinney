{
 "cells": [
  {
   "cell_type": "code",
   "execution_count": 1,
   "id": "4477dffd-d696-42a9-9a3a-533d5f3c9c55",
   "metadata": {},
   "outputs": [
    {
     "name": "stdout",
     "output_type": "stream",
     "text": [
      "NAME: In Helper: common.helper\n",
      "NAME: In TEST_Helper: common.test_helper\n",
      "NAME: In TEST_Daily: analytics.test_daily\n"
     ]
    }
   ],
   "source": [
    "import pandas as pd\n",
    "from common import helper\n",
    "from datetime import date\n",
    "import numpy as np\n",
    "from analytics import daily"
   ]
  },
  {
   "cell_type": "code",
   "execution_count": 2,
   "id": "c33ae8ab-7080-4ae9-b1e5-01c238033f2f",
   "metadata": {},
   "outputs": [],
   "source": [
    "f_name = 'jupyter'"
   ]
  },
  {
   "cell_type": "code",
   "execution_count": null,
   "id": "c3ee188a-6275-488f-8be5-9ef984da7052",
   "metadata": {},
   "outputs": [],
   "source": [
    "def daily_price_gainers(trading_date: date):\n",
    "    m_name = \"daily_price_gainers\"\n",
    "    log_append = f\"File: {f_name} Module: {m_name}\"\n",
    "    print(f\"{log_append} date: [{trading_date}]\")\n",
    "    df = helper.get_bhav_copy(trading_date)\n",
    "    df_eq = df[df.SERIES == 'EQ']\n",
    "    print(f\"{log_append}: Equities: {df_eq.SERIES}\")\n",
    "    print(df_eq[\"SERIES\"])\n",
    "    return None\n"
   ]
  },
  {
   "cell_type": "code",
   "execution_count": null,
   "id": "7fcd13b7-aabe-4e64-bc11-d92ac991779b",
   "metadata": {},
   "outputs": [],
   "source": [
    "daily_price_gainers(date(2023, 11, 24))"
   ]
  },
  {
   "cell_type": "markdown",
   "id": "bd342049-07f6-4e73-baa8-5f37bfb8e9e2",
   "metadata": {},
   "source": [
    "### Find the stocks that gained more than 1 %"
   ]
  },
  {
   "cell_type": "code",
   "execution_count": null,
   "id": "2339971a-d431-4900-97a1-a73855cd35a8",
   "metadata": {},
   "outputs": [],
   "source": [
    "df = pd.read_csv('/home/akasmajhi/data/NSE/bhavcopy/cm24NOV2023bhav.csv')\n",
    "df_eq = df[df.SERIES == 'EQ']"
   ]
  },
  {
   "cell_type": "code",
   "execution_count": null,
   "id": "9a3f67f5-c1fd-449b-bcbe-3df4714d4dce",
   "metadata": {},
   "outputs": [],
   "source": [
    "((df_eq['CLOSE'] - df_eq['PREVCLOSE']) / df_eq['PREVCLOSE']) * 100"
   ]
  },
  {
   "cell_type": "code",
   "execution_count": null,
   "id": "5b47d532-5062-457a-978b-4e7aa5007637",
   "metadata": {},
   "outputs": [],
   "source": [
    "df_eq['pct_change'] = ((df_eq['CLOSE'] - df_eq['PREVCLOSE']) / df_eq['PREVCLOSE']) * 100\n"
   ]
  },
  {
   "cell_type": "code",
   "execution_count": null,
   "id": "13df5ead-b840-4a16-8903-6b2d63ba6dce",
   "metadata": {},
   "outputs": [],
   "source": [
    "df_eq.head"
   ]
  },
  {
   "cell_type": "code",
   "execution_count": null,
   "id": "53335b3b-4ce5-4a0c-bd98-1a626d26ca12",
   "metadata": {},
   "outputs": [],
   "source": [
    "df_eq[df_eq.SYMBOL == 'ICICIBANK']"
   ]
  },
  {
   "cell_type": "code",
   "execution_count": null,
   "id": "0e58a7b9-abf9-460c-a6ae-71bcb2392259",
   "metadata": {},
   "outputs": [],
   "source": [
    "df_eq[df_eq.SYMBOL == 'FEDERALBNK'][[\"SYMBOL\", \"OPEN\", \"HIGH\", \"LOW\", \"CLOSE\", \"pct_change\"]]"
   ]
  },
  {
   "cell_type": "code",
   "execution_count": null,
   "id": "96ff05ce-7af6-4846-ab00-7cee49de7aeb",
   "metadata": {},
   "outputs": [],
   "source": [
    "\"INFY\" in df_eq.SYMBOL.values"
   ]
  },
  {
   "cell_type": "code",
   "execution_count": null,
   "id": "edfbee16-8d58-41b7-99de-512a6ea4d6d8",
   "metadata": {},
   "outputs": [],
   "source": [
    "sdata = {\"Ohio\": 35000, \"Texas\": 71000, \"Oregon\": 16000, \"Utah\": 5000}\n",
    "sdata"
   ]
  },
  {
   "cell_type": "code",
   "execution_count": null,
   "id": "638be916-140c-4f52-abc1-f1532ed3a1ee",
   "metadata": {},
   "outputs": [],
   "source": [
    "obj3 = pd.Series(sdata)"
   ]
  },
  {
   "cell_type": "code",
   "execution_count": null,
   "id": "14a3d70e-d5a2-4635-b391-194ec9f8277f",
   "metadata": {},
   "outputs": [],
   "source": [
    "obj3"
   ]
  },
  {
   "cell_type": "code",
   "execution_count": null,
   "id": "3d403902-8861-4c3c-b10b-87f962ba0d4f",
   "metadata": {},
   "outputs": [],
   "source": [
    "obj3[obj3.values > 5000]"
   ]
  },
  {
   "cell_type": "code",
   "execution_count": null,
   "id": "14813cee-b0a2-4728-8611-4cb9bf41f721",
   "metadata": {},
   "outputs": [],
   "source": [
    "print(obj3.to_dict())"
   ]
  },
  {
   "cell_type": "markdown",
   "id": "d187f255-ae20-4918-9152-421c5ae16b6b",
   "metadata": {},
   "source": [
    "### Detect N/A values in pandas"
   ]
  },
  {
   "cell_type": "code",
   "execution_count": null,
   "id": "4a5c6078-adb1-4eec-be9c-97e918dedfef",
   "metadata": {},
   "outputs": [],
   "source": [
    "regional_food = {\"sambalpur\": \"sarsatia\", \"cuttack\": \"aloo dum\", \"dhenkanal\": \"bara\", \"balasore\": \"moori\"}\n",
    "regional_food_series = pd.Series(regional_food)\n",
    "regional_food_series"
   ]
  },
  {
   "cell_type": "code",
   "execution_count": null,
   "id": "23d31560-7daf-4140-a970-eb5ae3c5ec3c",
   "metadata": {},
   "outputs": [],
   "source": [
    "regional_food_series_index = [\"cuttack\", \"dhenkanal\", \"sambalpur\", \"bargarh\"]"
   ]
  },
  {
   "cell_type": "code",
   "execution_count": null,
   "id": "1a400c6a-c657-439b-8463-067402393d1a",
   "metadata": {},
   "outputs": [],
   "source": [
    "obj_food = pd.Series(data=regional_food, index=regional_food_series_index)"
   ]
  },
  {
   "cell_type": "code",
   "execution_count": null,
   "id": "5d5d319d-efea-43be-aec8-52791cecc694",
   "metadata": {
    "scrolled": true
   },
   "outputs": [],
   "source": [
    "obj_food"
   ]
  },
  {
   "cell_type": "code",
   "execution_count": null,
   "id": "284a8874-e705-4848-8c27-44f7718ae268",
   "metadata": {},
   "outputs": [],
   "source": [
    "# obj_food[pd.isna(obj_food)]\n",
    "pd.notna(obj_food)"
   ]
  },
  {
   "cell_type": "code",
   "execution_count": null,
   "id": "ef018647-c7e5-466e-9164-2a0ea20a9792",
   "metadata": {},
   "outputs": [],
   "source": [
    "obj3"
   ]
  },
  {
   "cell_type": "code",
   "execution_count": null,
   "id": "d748d553-c0c6-4e1d-ad2e-d326b5dad40b",
   "metadata": {},
   "outputs": [],
   "source": [
    "states = [\"California\", \"Ohio\", \"Oregon\", \"Texas\"]\n",
    "obj4 = pd.Series(sdata, index=states)\n",
    "obj4"
   ]
  },
  {
   "cell_type": "code",
   "execution_count": null,
   "id": "73aa569d-8ba0-490e-9caa-0ce0f73196c0",
   "metadata": {},
   "outputs": [],
   "source": [
    "obj3 + obj4"
   ]
  },
  {
   "cell_type": "markdown",
   "id": "5ca40c99-3037-4547-86c5-01760fddf01e",
   "metadata": {},
   "source": [
    "### Naming series and it's index"
   ]
  },
  {
   "cell_type": "code",
   "execution_count": null,
   "id": "be2043b8-1721-4ae3-b581-9db1fbd4f55d",
   "metadata": {},
   "outputs": [],
   "source": [
    "regional_food_dict = {\"sambalpur\": \"sarsatia\", \"cuttack\": \"aloo dum\", \"dhenkanal\": \"bara\", \"balasore\": \"moori\"}\n",
    "regional_food_series = pd.Series(regional_food_dict)\n",
    "regional_food_series\n"
   ]
  },
  {
   "cell_type": "code",
   "execution_count": null,
   "id": "a31d4f9a-4497-4abb-920a-e9a087aea958",
   "metadata": {},
   "outputs": [],
   "source": [
    "regional_food_series.name = 'Fav. Food'\n",
    "regional_food_series.index.name = 'District'\n",
    "regional_food_series"
   ]
  },
  {
   "cell_type": "markdown",
   "id": "5671ccbb-f3d2-4874-a5c0-7a709230c05a",
   "metadata": {},
   "source": [
    "## DataFrames"
   ]
  },
  {
   "cell_type": "code",
   "execution_count": null,
   "id": "04116f45-711d-4125-aa16-cc673e1e6d03",
   "metadata": {},
   "outputs": [],
   "source": [
    "data = {\"state\": [\"Ohio\", \"Ohio\", \"Ohio\", \"Nevada\", \"Nevada\", \"Nevada\"],\n",
    "        \"year\": [2000, 2001, 2002, 2001, 2002, 2003],\n",
    "        \"pop\": [1.5, 1.7, 3.6, 2.4, 2.9, 3.2]}\n",
    "frame = pd.DataFrame(data)"
   ]
  },
  {
   "cell_type": "code",
   "execution_count": null,
   "id": "aa607af0-1107-4d0e-ace0-1e95b42d4beb",
   "metadata": {},
   "outputs": [],
   "source": [
    "food = {\"district\": [\"sambalpur\", \"cuttack\", \"dhenkanal\", \"balasore\", \"bargarh\"], \n",
    "        \"famous_food\": [\"sarsatia\", \"aloo dum\", \"bara\", \"moori\", \"gulgula\"],\n",
    "       \"population\": [253_000, 776_000, 91_000, 161_000, 104_000]}\n",
    "food_frame = pd.DataFrame(food)\n",
    "food_frame"
   ]
  },
  {
   "cell_type": "markdown",
   "id": "df34ec93-85e7-4c4f-bac1-e8c7fe430d00",
   "metadata": {},
   "source": [
    "#### Column Access"
   ]
  },
  {
   "cell_type": "code",
   "execution_count": null,
   "id": "70bb0201-ad2c-4f6f-baa4-32aeaac0e1b7",
   "metadata": {},
   "outputs": [],
   "source": [
    "\n",
    "pd.DataFrame(data=food, columns=[\"district\", \"population\", \"famous_food\", \"balangir\"]).columns"
   ]
  },
  {
   "cell_type": "code",
   "execution_count": null,
   "id": "3f4d3580-d8d4-4d74-8358-229197512cf1",
   "metadata": {},
   "outputs": [],
   "source": [
    "food_frame[\"district\"]"
   ]
  },
  {
   "cell_type": "markdown",
   "id": "45fbb0e7-90c7-4a75-8f06-f3977329a18d",
   "metadata": {},
   "source": [
    "#### Row Access"
   ]
  },
  {
   "cell_type": "code",
   "execution_count": null,
   "id": "1a48513a-d996-47fe-a129-3a09408860ba",
   "metadata": {},
   "outputs": [],
   "source": [
    "food_frame.iloc[1]"
   ]
  },
  {
   "cell_type": "code",
   "execution_count": null,
   "id": "e08a9c27-ca47-46d8-94c4-81a3438d494e",
   "metadata": {},
   "outputs": [],
   "source": [
    "food_frame.loc[1]"
   ]
  },
  {
   "cell_type": "markdown",
   "id": "857cc2a8-b883-4e1a-b83f-607a1f7513e1",
   "metadata": {},
   "source": [
    "#### Modify Column"
   ]
  },
  {
   "cell_type": "code",
   "execution_count": null,
   "id": "ff127131-6e51-465e-817c-6d7f4b53af0b",
   "metadata": {},
   "outputs": [],
   "source": [
    "food_frame[\"debt\"] = 100_000\n",
    "food_frame"
   ]
  },
  {
   "cell_type": "code",
   "execution_count": null,
   "id": "4aa4f72e-5d93-4f54-9323-24705908d201",
   "metadata": {},
   "outputs": [],
   "source": [
    "food_frame[\"debt\"] = np.arange(len(food_frame))\n",
    "food_frame"
   ]
  },
  {
   "cell_type": "code",
   "execution_count": null,
   "id": "646f0f4f-6447-40f8-8e3b-18b66f70b990",
   "metadata": {},
   "outputs": [],
   "source": [
    "food_frame[\"western\"] = food_frame[\"district\"] == \"bargarh\" "
   ]
  },
  {
   "cell_type": "code",
   "execution_count": null,
   "id": "e943c221-4ebe-4221-8f01-01db1003020c",
   "metadata": {},
   "outputs": [],
   "source": [
    "food_frame"
   ]
  },
  {
   "cell_type": "code",
   "execution_count": null,
   "id": "c61f9103-285a-4239-b271-f909ea985677",
   "metadata": {},
   "outputs": [],
   "source": [
    "del food_frame['western']\n",
    "food_frame"
   ]
  },
  {
   "cell_type": "code",
   "execution_count": null,
   "id": "63c1e6da-3c18-403a-9d82-e6d266625df1",
   "metadata": {},
   "outputs": [],
   "source": [
    "odisha = {\"east\": [\"bhubaneswar\", \"cuttack\"], \"west\": [\"sambalpur\", \"bargarh\"],\n",
    "                    \"north\": [\"balasore\", \"baripada\"], \"south\": [\"bhramapur\", \"koraput\"] }"
   ]
  },
  {
   "cell_type": "code",
   "execution_count": null,
   "id": "e105152e-b5cb-42e3-8cd5-8dd23868fe46",
   "metadata": {},
   "outputs": [],
   "source": [
    "odisha"
   ]
  },
  {
   "cell_type": "code",
   "execution_count": null,
   "id": "1450822b-6ff4-4b20-8d5b-43c8769d13de",
   "metadata": {},
   "outputs": [],
   "source": [
    "regions_of_odisha_df = pd.DataFrame(odisha)"
   ]
  },
  {
   "cell_type": "code",
   "execution_count": null,
   "id": "3ff50469-0a71-4406-80ce-2e18605a8fb9",
   "metadata": {},
   "outputs": [],
   "source": [
    "regions_of_odisha_df"
   ]
  },
  {
   "cell_type": "code",
   "execution_count": null,
   "id": "08f9d314-c0c7-4c42-9053-09b362ed6d7f",
   "metadata": {},
   "outputs": [],
   "source": [
    "od_details = {\"food\": {\"sambalpur\": \"sarsatia\", \"bargarh\": \"gul gula\", \"cuttack\": \"aaloo dum\"}, \n",
    "             \"population\": {\"sambalpur\": 253_000, \"bargarh\": 104_000, \"cuttack\": 776000},\n",
    "             \"region\": {\"sambalpur\": \"West\", \"bargarh\": \"West\", \"cuttack\": \"East\"}}"
   ]
  },
  {
   "cell_type": "code",
   "execution_count": null,
   "id": "3884bbd6-e016-4003-9bff-7902197f8b0d",
   "metadata": {},
   "outputs": [],
   "source": [
    "od_details_df = pd.DataFrame(od_details)\n",
    "od_details_df"
   ]
  },
  {
   "cell_type": "code",
   "execution_count": null,
   "id": "e97370f4-5de0-4ec9-aee2-95c9140c95df",
   "metadata": {},
   "outputs": [],
   "source": [
    "od_details_df.T"
   ]
  },
  {
   "cell_type": "code",
   "execution_count": null,
   "id": "f07ca36a-e287-4dc7-b729-4bbc954ba8ff",
   "metadata": {},
   "outputs": [],
   "source": [
    "od_details_df.index.name"
   ]
  },
  {
   "cell_type": "code",
   "execution_count": null,
   "id": "0da2d801-53fd-44bb-91cd-474ce5b03510",
   "metadata": {},
   "outputs": [],
   "source": [
    "od_details_df.columns.name = \"place\"\n",
    "od_details_df.columns.name"
   ]
  },
  {
   "cell_type": "code",
   "execution_count": null,
   "id": "b07d393a-adea-471c-baa6-4d962f09ce2a",
   "metadata": {},
   "outputs": [],
   "source": [
    "od_details_df"
   ]
  },
  {
   "cell_type": "code",
   "execution_count": null,
   "id": "a4153c77-98ef-44bc-b373-81108b109954",
   "metadata": {},
   "outputs": [],
   "source": [
    "od_details_df.iloc[0]"
   ]
  },
  {
   "cell_type": "code",
   "execution_count": null,
   "id": "f1dc7fab-7d79-4201-a0c7-d3cf5f1dc3f6",
   "metadata": {},
   "outputs": [],
   "source": [
    "od_details_df.loc['bargarh'].loc['population']"
   ]
  },
  {
   "cell_type": "code",
   "execution_count": null,
   "id": "0efff98e-8b65-4295-be5e-acd98eed9497",
   "metadata": {},
   "outputs": [],
   "source": []
  }
 ],
 "metadata": {
  "kernelspec": {
   "display_name": "Python 3 (ipykernel)",
   "language": "python",
   "name": "python3"
  },
  "language_info": {
   "codemirror_mode": {
    "name": "ipython",
    "version": 3
   },
   "file_extension": ".py",
   "mimetype": "text/x-python",
   "name": "python",
   "nbconvert_exporter": "python",
   "pygments_lexer": "ipython3",
   "version": "3.12.0"
  }
 },
 "nbformat": 4,
 "nbformat_minor": 5
}
