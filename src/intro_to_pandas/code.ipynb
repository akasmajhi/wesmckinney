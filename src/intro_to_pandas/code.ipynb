{
 "cells": [
  {
   "cell_type": "code",
   "execution_count": 1,
   "id": "61200c68-37c7-41ea-98a0-d17a5c743c34",
   "metadata": {},
   "outputs": [],
   "source": [
    "import pandas as pd\n",
    "import numpy as np\n",
    "from pandas import Series, DataFrame"
   ]
  },
  {
   "cell_type": "code",
   "execution_count": 2,
   "id": "7b843789-5d04-4452-87bb-97216547c107",
   "metadata": {},
   "outputs": [],
   "source": [
    "obj = pd.Series([4, 7, -5, 3])"
   ]
  },
  {
   "cell_type": "code",
   "execution_count": 3,
   "id": "4d4e484c-4d41-4699-abb6-a99ff6d4e6e3",
   "metadata": {},
   "outputs": [
    {
     "data": {
      "text/plain": [
       "0    4\n",
       "1    7\n",
       "2   -5\n",
       "3    3\n",
       "dtype: int64"
      ]
     },
     "execution_count": 3,
     "metadata": {},
     "output_type": "execute_result"
    }
   ],
   "source": [
    "obj"
   ]
  },
  {
   "cell_type": "code",
   "execution_count": 4,
   "id": "3a78fdf1-f654-4148-a60d-a070b207b6a2",
   "metadata": {},
   "outputs": [
    {
     "data": {
      "text/plain": [
       "<NumpyExtensionArray>\n",
       "[4, 7, -5, 3]\n",
       "Length: 4, dtype: int64"
      ]
     },
     "execution_count": 4,
     "metadata": {},
     "output_type": "execute_result"
    }
   ],
   "source": [
    "obj.array"
   ]
  },
  {
   "cell_type": "code",
   "execution_count": 5,
   "id": "0441343c-237c-44f8-82e3-83694b19af4c",
   "metadata": {},
   "outputs": [
    {
     "data": {
      "text/plain": [
       "RangeIndex(start=0, stop=4, step=1)"
      ]
     },
     "execution_count": 5,
     "metadata": {},
     "output_type": "execute_result"
    }
   ],
   "source": [
    "obj.index"
   ]
  },
  {
   "cell_type": "code",
   "execution_count": 6,
   "id": "a7f768ac-0170-45dd-93ed-4a892db4335a",
   "metadata": {},
   "outputs": [],
   "source": [
    "obj2 = pd.Series([1973, 1978, 2003], index=[\"Akas\", \"Rosy\", \"Avisi\"])"
   ]
  },
  {
   "cell_type": "code",
   "execution_count": 7,
   "id": "d7096f00-d6ec-44fd-bd22-0227326acef6",
   "metadata": {},
   "outputs": [
    {
     "data": {
      "text/plain": [
       "Akas     1973\n",
       "Rosy     1978\n",
       "Avisi    2003\n",
       "dtype: int64"
      ]
     },
     "execution_count": 7,
     "metadata": {},
     "output_type": "execute_result"
    }
   ],
   "source": [
    "obj2"
   ]
  },
  {
   "cell_type": "code",
   "execution_count": 8,
   "id": "7122e576-0cab-49a5-a799-3000cd08cdbb",
   "metadata": {},
   "outputs": [
    {
     "data": {
      "text/plain": [
       "Akas    1973\n",
       "Rosy    1978\n",
       "dtype: int64"
      ]
     },
     "execution_count": 8,
     "metadata": {},
     "output_type": "execute_result"
    }
   ],
   "source": [
    "obj2[[\"Akas\", \"Rosy\"]]"
   ]
  },
  {
   "cell_type": "code",
   "execution_count": 9,
   "id": "eee2b69d-47a0-43aa-9fc3-318f38efe8eb",
   "metadata": {},
   "outputs": [
    {
     "data": {
      "text/plain": [
       "Akas     1973\n",
       "Rosy     1978\n",
       "Avisi    2003\n",
       "dtype: int64"
      ]
     },
     "execution_count": 9,
     "metadata": {},
     "output_type": "execute_result"
    }
   ],
   "source": [
    "obj2[obj2 < 2010]"
   ]
  },
  {
   "cell_type": "code",
   "execution_count": 10,
   "id": "dbd8ff36-6f5b-48bc-ad05-5d15d65e5ddb",
   "metadata": {},
   "outputs": [],
   "source": [
    "x = obj2 > 2000"
   ]
  },
  {
   "cell_type": "code",
   "execution_count": 11,
   "id": "8f4273f5-6924-4c64-b1b0-0875f5d9a09f",
   "metadata": {},
   "outputs": [
    {
     "data": {
      "text/plain": [
       "Akas     False\n",
       "Rosy     False\n",
       "Avisi     True\n",
       "dtype: bool"
      ]
     },
     "execution_count": 11,
     "metadata": {},
     "output_type": "execute_result"
    }
   ],
   "source": [
    "x"
   ]
  },
  {
   "cell_type": "code",
   "execution_count": 12,
   "id": "b8a0c3e2-a394-43c4-8000-1b5a18711bc9",
   "metadata": {},
   "outputs": [
    {
     "data": {
      "text/plain": [
       "Avisi    2003\n",
       "dtype: int64"
      ]
     },
     "execution_count": 12,
     "metadata": {},
     "output_type": "execute_result"
    }
   ],
   "source": [
    "obj2[obj2 > 2000]"
   ]
  },
  {
   "cell_type": "code",
   "execution_count": 13,
   "id": "4430dc94-aa6b-4985-a5dd-41d5c7d41bd8",
   "metadata": {},
   "outputs": [
    {
     "data": {
      "text/plain": [
       "Akas    1973\n",
       "Rosy    1978\n",
       "dtype: int64"
      ]
     },
     "execution_count": 13,
     "metadata": {},
     "output_type": "execute_result"
    }
   ],
   "source": [
    "obj2[obj2 < 2000]"
   ]
  },
  {
   "cell_type": "code",
   "execution_count": null,
   "id": "cbad9bb6-7e2d-46e5-b66d-2173ac4e3279",
   "metadata": {},
   "outputs": [],
   "source": []
  },
  {
   "cell_type": "code",
   "execution_count": null,
   "id": "5cfae2c0-e724-4a63-be38-67a9f9f06e62",
   "metadata": {},
   "outputs": [],
   "source": []
  }
 ],
 "metadata": {
  "kernelspec": {
   "display_name": "Python 3 (ipykernel)",
   "language": "python",
   "name": "python3"
  },
  "language_info": {
   "codemirror_mode": {
    "name": "ipython",
    "version": 3
   },
   "file_extension": ".py",
   "mimetype": "text/x-python",
   "name": "python",
   "nbconvert_exporter": "python",
   "pygments_lexer": "ipython3",
   "version": "3.12.0"
  }
 },
 "nbformat": 4,
 "nbformat_minor": 5
}
