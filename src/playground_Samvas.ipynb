{
 "cells": [
  {
   "cell_type": "code",
   "execution_count": 3,
   "id": "51602e5a-bb8b-4526-a781-109ed2a5562e",
   "metadata": {},
   "outputs": [],
   "source": [
    "import pandas as pd"
   ]
  },
  {
   "cell_type": "code",
   "execution_count": 4,
   "id": "4d9fcdb4-f817-4c80-b399-c92406310582",
   "metadata": {},
   "outputs": [],
   "source": [
    "df1 = pd.read_csv('/home/akasmajhi/data/NSE/bhavcopy/cm13DEC2023bhav.csv')\n",
    "df2 = pd.read_csv('/home/akasmajhi/data/NSE/bhavcopy/cm12DEC2023bhav.csv')"
   ]
  },
  {
   "cell_type": "code",
   "execution_count": 5,
   "id": "6cc582ad-0be6-4e40-8b14-8245cdd9b073",
   "metadata": {},
   "outputs": [
    {
     "name": "stdout",
     "output_type": "stream",
     "text": [
      "DF1 length: 2602 DF2 Length: 2609\n"
     ]
    }
   ],
   "source": [
    "print(f\"DF1 length: {len(df1)} DF2 Length: {len(df2)}\")"
   ]
  },
  {
   "cell_type": "code",
   "execution_count": 7,
   "id": "f898ac91-8090-4474-a282-278bb9e4dfe3",
   "metadata": {},
   "outputs": [],
   "source": [
    "df = df1._append(df2)"
   ]
  },
  {
   "cell_type": "code",
   "execution_count": 9,
   "id": "93124a71-ac6d-485d-a3ec-ae2bce2eb00c",
   "metadata": {},
   "outputs": [
    {
     "data": {
      "text/plain": [
       "5211"
      ]
     },
     "execution_count": 9,
     "metadata": {},
     "output_type": "execute_result"
    }
   ],
   "source": [
    "len(df)"
   ]
  },
  {
   "cell_type": "code",
   "execution_count": 11,
   "id": "6959a231-66b8-4cbc-8c16-22f7853a1a08",
   "metadata": {},
   "outputs": [
    {
     "data": {
      "text/html": [
       "<div>\n",
       "<style scoped>\n",
       "    .dataframe tbody tr th:only-of-type {\n",
       "        vertical-align: middle;\n",
       "    }\n",
       "\n",
       "    .dataframe tbody tr th {\n",
       "        vertical-align: top;\n",
       "    }\n",
       "\n",
       "    .dataframe thead th {\n",
       "        text-align: right;\n",
       "    }\n",
       "</style>\n",
       "<table border=\"1\" class=\"dataframe\">\n",
       "  <thead>\n",
       "    <tr style=\"text-align: right;\">\n",
       "      <th></th>\n",
       "      <th>SYMBOL</th>\n",
       "      <th>SERIES</th>\n",
       "      <th>OPEN</th>\n",
       "      <th>HIGH</th>\n",
       "      <th>LOW</th>\n",
       "      <th>CLOSE</th>\n",
       "      <th>LAST</th>\n",
       "      <th>PREVCLOSE</th>\n",
       "      <th>TOTTRDQTY</th>\n",
       "      <th>TOTTRDVAL</th>\n",
       "      <th>TIMESTAMP</th>\n",
       "      <th>TOTALTRADES</th>\n",
       "      <th>ISIN</th>\n",
       "      <th>Unnamed: 13</th>\n",
       "    </tr>\n",
       "  </thead>\n",
       "  <tbody>\n",
       "    <tr>\n",
       "      <th>1097</th>\n",
       "      <td>INFY</td>\n",
       "      <td>EQ</td>\n",
       "      <td>1476.0</td>\n",
       "      <td>1476.05</td>\n",
       "      <td>1433.15</td>\n",
       "      <td>1449.00</td>\n",
       "      <td>1449.95</td>\n",
       "      <td>1476.05</td>\n",
       "      <td>8549258</td>\n",
       "      <td>1.236908e+10</td>\n",
       "      <td>13-DEC-2023</td>\n",
       "      <td>337694</td>\n",
       "      <td>INE009A01021</td>\n",
       "      <td>NaN</td>\n",
       "    </tr>\n",
       "    <tr>\n",
       "      <th>1108</th>\n",
       "      <td>INFY</td>\n",
       "      <td>EQ</td>\n",
       "      <td>1477.5</td>\n",
       "      <td>1490.00</td>\n",
       "      <td>1467.65</td>\n",
       "      <td>1476.05</td>\n",
       "      <td>1476.00</td>\n",
       "      <td>1488.50</td>\n",
       "      <td>6103494</td>\n",
       "      <td>9.018001e+09</td>\n",
       "      <td>12-DEC-2023</td>\n",
       "      <td>184795</td>\n",
       "      <td>INE009A01021</td>\n",
       "      <td>NaN</td>\n",
       "    </tr>\n",
       "  </tbody>\n",
       "</table>\n",
       "</div>"
      ],
      "text/plain": [
       "     SYMBOL SERIES    OPEN     HIGH      LOW    CLOSE     LAST  PREVCLOSE  \\\n",
       "1097   INFY     EQ  1476.0  1476.05  1433.15  1449.00  1449.95    1476.05   \n",
       "1108   INFY     EQ  1477.5  1490.00  1467.65  1476.05  1476.00    1488.50   \n",
       "\n",
       "      TOTTRDQTY     TOTTRDVAL    TIMESTAMP  TOTALTRADES          ISIN  \\\n",
       "1097    8549258  1.236908e+10  13-DEC-2023       337694  INE009A01021   \n",
       "1108    6103494  9.018001e+09  12-DEC-2023       184795  INE009A01021   \n",
       "\n",
       "      Unnamed: 13  \n",
       "1097          NaN  \n",
       "1108          NaN  "
      ]
     },
     "execution_count": 11,
     "metadata": {},
     "output_type": "execute_result"
    }
   ],
   "source": [
    "df[df[\"SYMBOL\"] == 'INFY']"
   ]
  },
  {
   "cell_type": "code",
   "execution_count": null,
   "id": "99f8c122-ec04-489a-ab54-2972e19d4262",
   "metadata": {},
   "outputs": [],
   "source": []
  }
 ],
 "metadata": {
  "kernelspec": {
   "display_name": "Python 3 (ipykernel)",
   "language": "python",
   "name": "python3"
  },
  "language_info": {
   "codemirror_mode": {
    "name": "ipython",
    "version": 3
   },
   "file_extension": ".py",
   "mimetype": "text/x-python",
   "name": "python",
   "nbconvert_exporter": "python",
   "pygments_lexer": "ipython3",
   "version": "3.12.0"
  }
 },
 "nbformat": 4,
 "nbformat_minor": 5
}
