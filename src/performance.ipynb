{
 "cells": [
  {
   "cell_type": "code",
   "execution_count": 1,
   "id": "420fe9cd-ac72-4a47-8bb9-00895d883b97",
   "metadata": {},
   "outputs": [
    {
     "name": "stdout",
     "output_type": "stream",
     "text": [
      "NAME: In Helper: common.helper\n",
      "NAME: In TEST_Helper: common.test_helper\n"
     ]
    }
   ],
   "source": [
    "from datetime import datetime, date\n",
    "import common.master_data as master_data\n",
    "import pandas as pd\n",
    "f_name = 'performance.py'"
   ]
  },
  {
   "cell_type": "code",
   "execution_count": 18,
   "id": "5388ac67-6c7a-4c6c-b5be-a841edd099d1",
   "metadata": {},
   "outputs": [],
   "source": [
    "def since_listing(arg_year: int | str | None):\n",
    "    m_name = \"since_listing\"\n",
    "    log_append = f\"File: {f_name} Module: {m_name}\" \n",
    "    # If the listing year is None then default the listing year to current year\n",
    "    if arg_year is None:\n",
    "        arg_year = str(datetime.today().year)\n",
    "    print(f\"{log_append}: Listing year: [{arg_year}]\")\n",
    "    # Gather all symbols that got listed in the specified year\n",
    "    all_symbols = master_data.get_equity_master()\n",
    "    print(f\"{log_append}: All symbols count: [{len(all_symbols)}]\")\n",
    "    # copy is created to avoid the warning, and rightly so.\n",
    "    # SettingWithCopyWarning: A value is trying to be set on a copy of a slice from a DataFrame\n",
    "    only_equities = all_symbols[all_symbols['SERIES'] == 'EQ'].copy()\n",
    "    print(f\"{log_append}: Equities count: [{len(only_equities)}]\")\n",
    "    # Filter out equities for the concerned year\n",
    "    only_equities['ARG_YEAR'] = arg_year    \n",
    "    # only_equities['LISTING_YEAR'] = \n",
    "    print(f\"{log_append}: only_equities count: {len(only_equities)}\")\n",
    "    # For each equity, calculate the gain/loss since listing date\n",
    "    # Return Empty data frame in case of error!\n",
    "    return only_equities\n"
   ]
  },
  {
   "cell_type": "code",
   "execution_count": 19,
   "id": "ea814792-05b6-4acc-8a20-5be810603947",
   "metadata": {},
   "outputs": [
    {
     "name": "stdout",
     "output_type": "stream",
     "text": [
      "File: performance.py Module: since_listing: Listing year: [2023]\n",
      "File: master_data.py Module: get_equity_master Exchange: NSE\n",
      "File: performance.py Module: since_listing: All symbols count: [1927]\n",
      "File: performance.py Module: since_listing: Equities count: [1633]\n",
      "File: performance.py Module: since_listing: only_equities count: 1633\n"
     ]
    }
   ],
   "source": [
    "only_equities = since_listing('2023')"
   ]
  },
  {
   "cell_type": "code",
   "execution_count": 22,
   "id": "7eac2ea7-0828-4363-853f-f7316d665d55",
   "metadata": {},
   "outputs": [],
   "source": [
    "listing_years = pd.to_datetime(only_equities['DATE OF LISTING'], format='%d-%b-%y')\n"
   ]
  },
  {
   "cell_type": "code",
   "execution_count": 23,
   "id": "5ad1ea79-2576-4924-9692-91230dcfdae0",
   "metadata": {},
   "outputs": [
    {
     "data": {
      "text/plain": [
       "0      2008-10-06\n",
       "1      1995-05-03\n",
       "2      2019-09-19\n",
       "3      2021-10-22\n",
       "4      2004-08-13\n",
       "          ...    \n",
       "1922   2019-08-19\n",
       "1923   2012-11-27\n",
       "1924   1995-04-12\n",
       "1925   2000-04-18\n",
       "1926   2009-11-13\n",
       "Name: DATE OF LISTING, Length: 1633, dtype: datetime64[ns]"
      ]
     },
     "execution_count": 23,
     "metadata": {},
     "output_type": "execute_result"
    }
   ],
   "source": [
    "listing_years['']"
   ]
  },
  {
   "cell_type": "code",
   "execution_count": null,
   "id": "6e3e36e6-4690-4450-a302-07c085d8542b",
   "metadata": {},
   "outputs": [],
   "source": [
    "str(datetime.today().year)"
   ]
  },
  {
   "cell_type": "code",
   "execution_count": null,
   "id": "30c4b2cf-9176-4060-9b46-c5d14124dabb",
   "metadata": {},
   "outputs": [],
   "source": [
    "all_symbols = master_data.get_equity_master()"
   ]
  },
  {
   "cell_type": "code",
   "execution_count": null,
   "id": "ed492c5a-33d7-4996-be75-602e57b649d6",
   "metadata": {},
   "outputs": [],
   "source": [
    "only_equities = all_symbols[all_symbols['SERIES'] == 'EQ']"
   ]
  },
  {
   "cell_type": "code",
   "execution_count": null,
   "id": "95f5defe-8e05-4f50-b1b4-76b9dd5d8447",
   "metadata": {},
   "outputs": [],
   "source": [
    "only_equities"
   ]
  },
  {
   "cell_type": "code",
   "execution_count": null,
   "id": "77854a62-7607-4e72-baab-dbf07481306d",
   "metadata": {},
   "outputs": [],
   "source": [
    "pd.to_datetime(only_equities['DATE OF LISTING'], format='%d-%b-%y')"
   ]
  },
  {
   "cell_type": "code",
   "execution_count": 21,
   "id": "f714fdd2-6dd0-40d1-9769-1604e00d5863",
   "metadata": {},
   "outputs": [
    {
     "name": "stdout",
     "output_type": "stream",
     "text": [
      "19-Dec-23\n"
     ]
    }
   ],
   "source": [
    "today = datetime.today()\n",
    "print(today.strftime('%d-%b-%y'))"
   ]
  },
  {
   "cell_type": "code",
   "execution_count": null,
   "id": "b05967ef-807b-4608-902c-02e9d248160c",
   "metadata": {},
   "outputs": [],
   "source": []
  }
 ],
 "metadata": {
  "kernelspec": {
   "display_name": "Python 3 (ipykernel)",
   "language": "python",
   "name": "python3"
  },
  "language_info": {
   "codemirror_mode": {
    "name": "ipython",
    "version": 3
   },
   "file_extension": ".py",
   "mimetype": "text/x-python",
   "name": "python",
   "nbconvert_exporter": "python",
   "pygments_lexer": "ipython3",
   "version": "3.12.0"
  }
 },
 "nbformat": 4,
 "nbformat_minor": 5
}
